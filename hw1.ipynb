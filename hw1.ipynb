{
 "cells": [
  {
   "cell_type": "code",
   "execution_count": 1,
   "id": "4382e007-b114-4126-9c01-4b8014eec3ac",
   "metadata": {},
   "outputs": [],
   "source": [
    "import os\n",
    "import pandas as pd\n",
    "from sklearn.feature_extraction import DictVectorizer\n",
    "from sklearn.linear_model import LinearRegression\n",
    "from sklearn.metrics import mean_squared_error\n"
   ]
  },
  {
   "cell_type": "code",
   "execution_count": 3,
   "id": "84a15cd6-b91f-46c4-a901-a57ae788d6a3",
   "metadata": {},
   "outputs": [],
   "source": [
    "!bash get_data.sh"
   ]
  },
  {
   "cell_type": "code",
   "execution_count": 2,
   "id": "f11d79c5-c6aa-46c4-8b7a-5eec206696ff",
   "metadata": {},
   "outputs": [],
   "source": [
    "def prepare_file(file):\n",
    "    df = pd.read_parquet('../data/'+file)\n",
    "    df['duration'] = df.tpep_dropoff_datetime - df.tpep_pickup_datetime\n",
    "    df.duration = df.duration.apply(lambda td: td.total_seconds() / 60)\n",
    "    print(f\"The average duration of trips in {file} is {df.duration.mean():.2f} minutes.\")\n",
    "    print(f\"The standard deviation of the trip durations in {file} is {df.duration.std():.2f} minutes.\")\n",
    "\n",
    "    \n",
    "    entries_total = df.shape[0]\n",
    "    df = df[(df['duration'] >= 1) & (df['duration'] <= 60)]\n",
    "    print(f\"{entries_total - df.shape[0]} (potential) outliers were dropped.\", '\\n')\n",
    "    \n",
    "    return df\n"
   ]
  },
  {
   "cell_type": "code",
   "execution_count": 3,
   "id": "f415d86a-f2dc-411f-9cf0-3fa6ff2b9db9",
   "metadata": {},
   "outputs": [
    {
     "name": "stdout",
     "output_type": "stream",
     "text": [
      "Q1: The number of columns in yellow_tripdata_2022-01.parquet is 19 \n",
      "\n",
      "Q2: The standard deviation of trip durations in yellow_tripdata_2022-01.parquet is 46.44530513776802 minutes. \n",
      "\n",
      "Q3: 98% is the fraction of the records left after outliers were dropped.\n"
     ]
    }
   ],
   "source": [
    "###Question 1\n",
    "file = 'yellow_tripdata_2022-01.parquet'\n",
    "df = pd.read_parquet('../data/'+file)\n",
    "print(f\"Q1: The number of columns in {file} is {df.shape[1]}\", '\\n')\n",
    "\n",
    "###Question 2\n",
    "df['duration'] = df.tpep_dropoff_datetime - df.tpep_pickup_datetime\n",
    "df.duration = df.duration.apply(lambda td: td.total_seconds() / 60)\n",
    "print(f\"Q2: The standard deviation of trip durations in {file} is {df.duration.std()} minutes.\", '\\n')\n",
    "\n",
    "###Question 3\n",
    "entries_total = df.shape[0]\n",
    "df = df[(df['duration'] >= 1) & (df['duration'] <= 60)]\n",
    "print(f\"Q3: {df.shape[0]/entries_total:.0%} is the fraction of the records left after outliers were dropped.\")\n"
   ]
  },
  {
   "cell_type": "code",
   "execution_count": 4,
   "id": "66d780a4-6927-4723-b01a-472de7b622bc",
   "metadata": {},
   "outputs": [],
   "source": [
    "features = ['PULocationID', 'DOLocationID']\n",
    "target = 'duration'\n",
    "train_dicts = df[features].astype(str).to_dict(orient='records')"
   ]
  },
  {
   "cell_type": "code",
   "execution_count": 5,
   "id": "c2bfdebb-f798-41f2-b3c6-590021630c45",
   "metadata": {},
   "outputs": [
    {
     "name": "stdout",
     "output_type": "stream",
     "text": [
      "The average duration of trips in yellow_tripdata_2022-02.parquet is 15.65 minutes.\n",
      "The standard deviation of the trip durations in yellow_tripdata_2022-02.parquet is 47.26 minutes.\n",
      "61244 (potential) outliers were dropped. \n",
      "\n"
     ]
    }
   ],
   "source": [
    "file_val = 'yellow_tripdata_2022-02.parquet'\n",
    "df_val = prepare_file(file_val)\n",
    "val_dicts = df_val[features].astype(str).to_dict(orient='records')"
   ]
  },
  {
   "cell_type": "code",
   "execution_count": 6,
   "id": "f952274e-f02f-40bf-aef5-8d1217fc1574",
   "metadata": {},
   "outputs": [],
   "source": [
    "dv = DictVectorizer()\n",
    "X_train = dv.fit_transform(train_dicts)\n",
    "X_val = dv.transform(val_dicts)"
   ]
  },
  {
   "cell_type": "code",
   "execution_count": 7,
   "id": "11138ab7-2ea1-4299-87a3-db47f09c0ca8",
   "metadata": {},
   "outputs": [
    {
     "name": "stdout",
     "output_type": "stream",
     "text": [
      "Q4: The dimensionality of the feature matrix is 515.\n"
     ]
    }
   ],
   "source": [
    "print(f\"Q4: The dimensionality of the feature matrix is {X_train.shape[1]}.\")"
   ]
  },
  {
   "cell_type": "code",
   "execution_count": 8,
   "id": "e46a53e2-7409-46ee-a8af-14e568c763b4",
   "metadata": {},
   "outputs": [],
   "source": [
    "lr = LinearRegression()"
   ]
  },
  {
   "cell_type": "code",
   "execution_count": 9,
   "id": "e8a3cf7f-ee89-49f4-8893-34bb37b88502",
   "metadata": {},
   "outputs": [],
   "source": [
    "y_train = df[target].values\n",
    "y_val = df_val[target].values"
   ]
  },
  {
   "cell_type": "code",
   "execution_count": 10,
   "id": "a23964d0-245c-4439-afdf-94ce36059fef",
   "metadata": {},
   "outputs": [],
   "source": [
    "lr.fit(X_train, y_train)\n",
    "y_pred = lr.predict(X_train)\n",
    "y_pred_val = lr.predict(X_val)\n",
    "RMSE = mean_squared_error(y_train, y_pred, squared=False)\n",
    "RMSE_val = mean_squared_error(y_val, y_pred_val, squared=False)"
   ]
  },
  {
   "cell_type": "code",
   "execution_count": 11,
   "id": "707054d1-f1ed-4450-ad2e-63b8cb55723f",
   "metadata": {},
   "outputs": [
    {
     "name": "stdout",
     "output_type": "stream",
     "text": [
      "Q5: The RMSE on the training set is 6.9861910730902625.\n"
     ]
    }
   ],
   "source": [
    "print(f\"Q5: The RMSE on the training set is {RMSE}.\")"
   ]
  },
  {
   "cell_type": "code",
   "execution_count": 12,
   "id": "f432bff7-0228-4b60-916e-162a7b05d5c6",
   "metadata": {},
   "outputs": [
    {
     "name": "stdout",
     "output_type": "stream",
     "text": [
      "Q6: The RMSE on the validation set is 7.786412673537908.\n"
     ]
    }
   ],
   "source": [
    "print(f\"Q6: The RMSE on the validation set is {RMSE_val}.\")"
   ]
  },
  {
   "cell_type": "code",
   "execution_count": null,
   "id": "065b8568-7d6e-4f0a-aa8b-a1642447ac1c",
   "metadata": {},
   "outputs": [],
   "source": []
  }
 ],
 "metadata": {
  "kernelspec": {
   "display_name": "mlops-zc",
   "language": "python",
   "name": "mlops-zc"
  },
  "language_info": {
   "codemirror_mode": {
    "name": "ipython",
    "version": 3
   },
   "file_extension": ".py",
   "mimetype": "text/x-python",
   "name": "python",
   "nbconvert_exporter": "python",
   "pygments_lexer": "ipython3",
   "version": "3.9.16"
  }
 },
 "nbformat": 4,
 "nbformat_minor": 5
}
